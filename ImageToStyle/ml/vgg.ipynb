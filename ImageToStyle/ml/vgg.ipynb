{
 "cells": [
  {
   "cell_type": "markdown",
   "metadata": {},
   "source": []
  },
  {
   "cell_type": "code",
   "execution_count": 1,
   "metadata": {},
   "outputs": [],
   "source": [
    "import torch\n",
    "import torchvision.transforms as transforms\n",
    "from PIL import Image\n",
    "import torch.nn as nn\n",
    "import torchvision.models as models\n",
    "from torchvision.utils import save_image\n",
    "import torch.optim as optim\n",
    "import pathlib\n"
   ]
  },
  {
   "cell_type": "code",
   "execution_count": 11,
   "metadata": {},
   "outputs": [],
   "source": [
    "DATAPATH = pathlib.Path.cwd().parent / \"photo_mod\" / \"data\""
   ]
  },
  {
   "cell_type": "code",
   "execution_count": 3,
   "metadata": {},
   "outputs": [],
   "source": [
    "model = models.vgg19(weights=\"IMAGENET1K_V1\")\n",
    "device = torch.device(\"cuda\" if (torch.cuda.is_available()) else \"cpu\")"
   ]
  },
  {
   "cell_type": "code",
   "execution_count": null,
   "metadata": {},
   "outputs": [],
   "source": [
    "print(model)"
   ]
  },
  {
   "cell_type": "code",
   "execution_count": 15,
   "metadata": {},
   "outputs": [],
   "source": [
    "\n",
    "def image_path(id_number: int) -> pathlib.Path:\n",
    "    \"\"\"Retrieve an image from the data based based on an id number\n",
    "\n",
    "    Args:\n",
    "        id_number (int): image identification number\n",
    "\n",
    "    Returns:\n",
    "        Image:\n",
    "    \"\"\"\n",
    "    image_num = \"flower\" + str(id_number) + \".jpg\"\n",
    "    LOCALPATH = DATAPATH / image_num\n",
    "    return LOCALPATH"
   ]
  },
  {
   "cell_type": "code",
   "execution_count": 32,
   "metadata": {},
   "outputs": [],
   "source": [
    "image_id = image_path(4)"
   ]
  },
  {
   "cell_type": "code",
   "execution_count": 17,
   "metadata": {},
   "outputs": [],
   "source": [
    "\n",
    "def image_loader(path):\n",
    "    image = Image.open(path)\n",
    "    loader = transforms.Compose(\n",
    "        [\n",
    "            transforms.Resize(\n",
    "                (\n",
    "                    512,\n",
    "                    512,\n",
    "                )\n",
    "            ),\n",
    "            transforms.ToTensor(),\n",
    "        ]\n",
    "    )\n",
    "    image = loader(image).unsqueeze(0)\n",
    "    return image.to(device, torch.float)\n"
   ]
  },
  {
   "cell_type": "code",
   "execution_count": 33,
   "metadata": {},
   "outputs": [],
   "source": [
    "orig_image = image_loader(image_id)"
   ]
  },
  {
   "cell_type": "code",
   "execution_count": 34,
   "metadata": {},
   "outputs": [],
   "source": [
    "vgg_pretrained = model.to(device)"
   ]
  },
  {
   "cell_type": "code",
   "execution_count": 49,
   "metadata": {},
   "outputs": [],
   "source": [
    "vgg_pred = vgg_pretrained(orig_image).squeeze(0).softmax(0)"
   ]
  },
  {
   "cell_type": "code",
   "execution_count": 50,
   "metadata": {},
   "outputs": [],
   "source": [
    "vgg_id = vgg_pred.argmax().item()\n",
    "vgg_score=vgg_pred[vgg_id].item()"
   ]
  },
  {
   "cell_type": "code",
   "execution_count": 25,
   "metadata": {},
   "outputs": [],
   "source": [
    "import numpy as np"
   ]
  },
  {
   "cell_type": "code",
   "execution_count": 28,
   "metadata": {},
   "outputs": [],
   "source": [
    "from torchvision.models import VGG19_Weights"
   ]
  },
  {
   "cell_type": "code",
   "execution_count": 29,
   "metadata": {},
   "outputs": [],
   "source": [
    "weights = VGG19_Weights.DEFAULT"
   ]
  },
  {
   "cell_type": "code",
   "execution_count": 51,
   "metadata": {},
   "outputs": [],
   "source": [
    "cat_name = weights.meta[\"categories\"][vgg_id]"
   ]
  },
  {
   "cell_type": "code",
   "execution_count": 52,
   "metadata": {},
   "outputs": [
    {
     "data": {
      "text/plain": [
       "'daisy'"
      ]
     },
     "execution_count": 52,
     "metadata": {},
     "output_type": "execute_result"
    }
   ],
   "source": [
    "cat_name"
   ]
  }
 ],
 "metadata": {
  "kernelspec": {
   "display_name": "styletransfer",
   "language": "python",
   "name": "python3"
  },
  "language_info": {
   "codemirror_mode": {
    "name": "ipython",
    "version": 3
   },
   "file_extension": ".py",
   "mimetype": "text/x-python",
   "name": "python",
   "nbconvert_exporter": "python",
   "pygments_lexer": "ipython3",
   "version": "3.9.15 | packaged by conda-forge | (main, Nov 22 2022, 08:41:22) [MSC v.1929 64 bit (AMD64)]"
  },
  "orig_nbformat": 4,
  "vscode": {
   "interpreter": {
    "hash": "f22c370e7f3f675494fd6af0987d18d1bd52cf49e26db54bd88c6c515a554e22"
   }
  }
 },
 "nbformat": 4,
 "nbformat_minor": 2
}
